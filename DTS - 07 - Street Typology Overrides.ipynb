{
 "cells": [
  {
   "cell_type": "markdown",
   "metadata": {},
   "source": [
    "**DTS - Complete Streets** *Right-of-Way Widths for Planned Street Improvements*\n",
    "\n",
    "\n",
    "\n",
    "# 07 - Street Typology Overrides\n",
    "\n",
    "**Author:** rmangan\n",
    "\n",
    "---\n",
    "\n",
    "**Purpose:**\n",
    "\n",
    "After intial assingment of Complete Street Typologies, data was published to ArcGIS Online for review by DTS Staff. DTS Staff provided input on individual streets that were mis-assigned. Input was provided in the form of an ArcGIS Online point feature service, configured for editing by DTS staff with options to select a street type \"override\". Points were placed on the map on streets that needed adjustment.\n",
    "\n",
    "**This script performs the following functions:**\n",
    "\n",
    "1. Download AGOL comment layer via ArcGIS API for python\n",
    "2. Spatial join comment point layer to modal composite layer.\n",
    "\n",
    "**Manual processing was performed for the following functions**\n",
    "\n",
    "3. Update complete street typology in modal composite based on complete street type in comment point layer. If DTS staff entered verbiage into the \"Note\" field, the comment is skipped and must be manually addressed/edited in ArcGIS Pro.\n",
    "\n",
    "**Global Assumptions and Notes:**\n",
    "1. All typology comments with values in \"Note\" field are skipped, comments must be manually addressed in ArcGIS Pro.\n",
    "\n",
    "\n",
    "**Non-Standard Python Modules utilized:**\n",
    "1. arcpy 2.7 - used for common data geo-processing\n",
    "2. arcgis 1.83 - used for connecting to AGOL org and related items"
   ]
  },
  {
   "cell_type": "code",
   "execution_count": null,
   "metadata": {},
   "outputs": [],
   "source": [
    "# import modules\n",
    "import arcpy\n",
    "import os\n",
    "from arcgis.gis import GIS"
   ]
  },
  {
   "cell_type": "code",
   "execution_count": null,
   "metadata": {},
   "outputs": [],
   "source": [
    "# set environment setttings\n",
    "arcpy.env.workspace = \"Z:\\H\\Honolulu_DTS\\D3409300_RailActivation\\GeoData\\GDB\\typology_comments.gdb\"\n",
    "arcpy.env.overwriteOutput = True\n",
    "\n",
    "# login to AGOL\n",
    "my_gis = GIS()\n",
    "\n",
    "print(\"ArcGIS Online Org account\")\n",
    "\n",
    "pw = input(\"Enter AGOL password...\")\n",
    "\n",
    "gis = GIS(\"http://dithnl.maps.arcgis.com\", \"ray.mangan_ch2m\", pw)\n",
    "print(\"Logged in as \" + str(gis.properties.user.username))\n"
   ]
  },
  {
   "cell_type": "code",
   "execution_count": null,
   "metadata": {},
   "outputs": [],
   "source": [
    "# define variables\n",
    "input_gdb_path = r\"\\\\dc1vs01\\GISProj\\H\\Honolulu_DTS\\D3409300_RailActivation\\GeoData\\GDB\\Input_Data.gdb\"\n",
    "\n",
    "modal_gdb = r\"\\\\dc1vs01\\GISProj\\H\\Honolulu_DTS\\D3409300_RailActivation\\GeoData\\GDB\\Modal\\Modal Composite 5_3.gdb\"\n",
    "\n",
    "comment_gdb = r\"\\\\dc1vs01\\GISProj\\H\\Honolulu_DTS\\D3409300_RailActivation\\GeoData\\GDB\\typology_comments.gdb\"\n",
    "\n",
    "\n",
    "# Input Datasets\n",
    "\n",
    "comment_REST = \"https://services6.arcgis.com/2cZSk3EXXiOHcbOl/arcgis/rest/services/Complete_Streets_Comments/FeatureServer/0\"\n",
    "\n",
    "modal_composite = r\"\\\\dc1vs01\\GISProj\\H\\Honolulu_DTS\\D3409300_RailActivation\\GeoData\\GDB\\Modal\\Modal Composite 5_3.gdb\\modal_composite_05_3\""
   ]
  },
  {
   "cell_type": "markdown",
   "metadata": {},
   "source": [
    "## 01 - Download AGOL feature service and spatial join to Modal Composite\n",
    "---\n",
    "\n",
    "Download the Street Type comments point layer and spatial join it to modal composite. Comment overrides are then manually reviewed and implemented by the project team.\n",
    "\n",
    "**This section performs the following functions:**\n",
    "\n",
    "1. Download AGOL comment point feature service\n",
    "\n",
    "2. Spatial join point layer to modal composite line dataset\n",
    "\n",
    "\n",
    "**Assumptions and Notes:**\n",
    "1. none"
   ]
  },
  {
   "cell_type": "code",
   "execution_count": null,
   "metadata": {},
   "outputs": [],
   "source": [
    "#copy cs layer to local gdb\n",
    "\n",
    "comment_local = os.path.join(comment_gdb,\"typology_comments_20210723\")\n",
    "\n",
    "print(\"Copying Comment layer to local gdb...\")\n",
    "arcpy.CopyFeatures_management(comment_REST, comment_local)\n",
    "print(\"done\")\n",
    "\n",
    "#spatial join cs comments to rcl\n",
    "sj_output = os.path.join(modal_gdb, \"sj_output\")\n",
    "\n",
    "print(\"Running spatial join...\")\n",
    "arcpy.analysis.SpatialJoin(modal_composite, comment_local, sj_output, join_operation = \"JOIN_ONE_TO_ONE\", match_option = \"CLOSEST\", search_radius = 10)\n",
    "print(\"done\")\n"
   ]
  }
 ],
 "metadata": {
  "kernelspec": {
   "display_name": "Python 3",
   "language": "python",
   "name": "python3"
  },
  "language_info": {
   "codemirror_mode": {
    "name": "ipython",
    "version": 3
   },
   "file_extension": ".py",
   "mimetype": "text/x-python",
   "name": "python",
   "nbconvert_exporter": "python",
   "pygments_lexer": "ipython3",
   "version": "3.7.10"
  }
 },
 "nbformat": 4,
 "nbformat_minor": 2
}
